{
  "nbformat": 4,
  "nbformat_minor": 0,
  "metadata": {
    "colab": {
      "name": "Copy of JoeysEtfProject.ipynb",
      "provenance": [],
      "collapsed_sections": [],
      "include_colab_link": true
    },
    "kernelspec": {
      "name": "python3",
      "display_name": "Python 3"
    },
    "language_info": {
      "name": "python"
    }
  },
  "cells": [
    {
      "cell_type": "markdown",
      "metadata": {
        "id": "view-in-github",
        "colab_type": "text"
      },
      "source": [
        "<a href=\"https://colab.research.google.com/github/JC-fin/ETF-Holdings-/blob/main/Copy_of_JoeysEtfProject.ipynb\" target=\"_parent\"><img src=\"https://colab.research.google.com/assets/colab-badge.svg\" alt=\"Open In Colab\"/></a>"
      ]
    },
    {
      "cell_type": "code",
      "source": [
        "import requests\n",
        "from bs4 import BeautifulSoup\n",
        "\n",
        "#getting the price \n",
        "def priceTracker():\n",
        "  url = 'https://finance.yahoo.com/quote/SPY?p=SPY&.tsrc=fin-srch'\n",
        "  response = requests.get(url)\n",
        "  soup = BeautifulSoup(response.text, 'html')\n",
        "  price = soup.find_all('div', {'class':'My(6px) Pos(r) smartphone_Mt(6px) W(100%) '})[0].find('fin-streamer').text \n",
        "  return price\n",
        "\n",
        "print(priceTracker())"
      ],
      "metadata": {
        "colab": {
          "base_uri": "https://localhost:8080/"
        },
        "id": "HrcooBRG0cI1",
        "outputId": "e27c49af-3d2d-40b7-e27a-96f71dc4ef89"
      },
      "execution_count": null,
      "outputs": [
        {
          "output_type": "stream",
          "name": "stdout",
          "text": [
            "409.59\n"
          ]
        }
      ]
    },
    {
      "cell_type": "code",
      "source": [
        "import requests\n",
        "from bs4 import BeautifulSoup\n",
        "\n",
        "#getting the holdings\n",
        "url = 'https://finance.yahoo.com/quote/SPY/holdings?p=SPY'\n",
        "response = requests.get(url)\n",
        "soup = BeautifulSoup(response.text, 'html')\n",
        "holding = soup.find_all('table', {'class':'W(100%) M(0) BdB Bdc($seperatorColor)'})\n",
        "print(holding)\n",
        "  \n",
        "\n"
      ],
      "metadata": {
        "colab": {
          "base_uri": "https://localhost:8080/"
        },
        "id": "ZLIFNvkr4aEu",
        "outputId": "f9b05a21-436a-4f36-ef29-448e4508d488"
      },
      "execution_count": 2,
      "outputs": [
        {
          "output_type": "stream",
          "name": "stdout",
          "text": [
            "[]\n"
          ]
        }
      ]
    },
    {
      "cell_type": "code",
      "source": [
        "import re \n",
        "import json \n",
        "import csv \n",
        "from io import StringIO\n",
        "from bs4 import BeautifulSoup\n",
        "import requests \n",
        "\n",
        "url_financials = 'https://finance.yahoo.com/quote/{}/financials?p={}'\n",
        "stock = 'F'\n",
        "response = requests.get(url.financials.format(stock, stock))\n",
        "soup = BeautifulSoup(response.text, 'html.parser')"
      ],
      "metadata": {
        "id": "0_Dnhbt18i5Z"
      },
      "execution_count": null,
      "outputs": []
    },
    {
      "cell_type": "code",
      "source": [
        "#This is a really easy library i found online \n",
        "!pip install yahooquery\n",
        "from yahooquery import Ticker\n",
        "\n",
        "#List of funds in my roth account\n",
        "fid_symbols = ['QQQ', 'XLK', 'VB', 'FSMAX', 'FXAIX', 'VEU', 'SCHV', 'FCOM', 'FNCL']\n",
        "e_symbols = ['VNQ', 'VOO', 'VIG', 'ITB', 'QQQ', 'XLY']\n",
        "\n",
        "roth = Ticker(fid_symbols)\n",
        "brokerage = Ticker(e_symbols)\n",
        "\n",
        "roth.fund_top_holdings\n",
        "brokerage.fund_top_holdings"
      ],
      "metadata": {
        "id": "IHf66XwR-Dre"
      },
      "execution_count": null,
      "outputs": []
    },
    {
      "cell_type": "code",
      "source": [
        "# Import libraries\n",
        "import requests\n",
        "from bs4 import BeautifulSoup\n",
        "import pandas as pd\n",
        "\n",
        "# Create an URL object\n",
        "url = 'https://finance.yahoo.com/quote/SPY/holdings?p=SPY'\n",
        "# Create object page\n",
        "page = requests.get(url)\n",
        "\n",
        "# parser-lxml = Change html to Python friendly format\n",
        "# Obtain page's information\n",
        "soup = BeautifulSoup(page.text, 'lxml')\n",
        "soup\n",
        "\n",
        "# Obtain information from tag <table>\n",
        "table1 = soup.find('table', {'class':'W(100%) M(0) BdB Bdc($seperatorColor)'})\n",
        "table1\n",
        "\n"
      ],
      "metadata": {
        "colab": {
          "base_uri": "https://localhost:8080/",
          "height": 236
        },
        "id": "EzixkODCCUV8",
        "outputId": "8080bbeb-cd03-4956-f0a7-1fcf327969c1"
      },
      "execution_count": 11,
      "outputs": [
        {
          "output_type": "error",
          "ename": "AttributeError",
          "evalue": "ignored",
          "traceback": [
            "\u001b[0;31m---------------------------------------------------------------------------\u001b[0m",
            "\u001b[0;31mAttributeError\u001b[0m                            Traceback (most recent call last)",
            "\u001b[0;32m<ipython-input-11-5f192c20a71b>\u001b[0m in \u001b[0;36m<module>\u001b[0;34m()\u001b[0m\n\u001b[1;32m     20\u001b[0m \u001b[0;31m# Obtain every title of columns with tag <th>\u001b[0m\u001b[0;34m\u001b[0m\u001b[0;34m\u001b[0m\u001b[0;34m\u001b[0m\u001b[0m\n\u001b[1;32m     21\u001b[0m \u001b[0mheaders\u001b[0m \u001b[0;34m=\u001b[0m \u001b[0;34m[\u001b[0m\u001b[0;34m]\u001b[0m\u001b[0;34m\u001b[0m\u001b[0;34m\u001b[0m\u001b[0m\n\u001b[0;32m---> 22\u001b[0;31m \u001b[0;32mfor\u001b[0m \u001b[0mi\u001b[0m \u001b[0;32min\u001b[0m \u001b[0mtable1\u001b[0m\u001b[0;34m.\u001b[0m\u001b[0mfind_all\u001b[0m\u001b[0;34m(\u001b[0m\u001b[0;34m'tr'\u001b[0m\u001b[0;34m)\u001b[0m\u001b[0;34m:\u001b[0m\u001b[0;34m\u001b[0m\u001b[0;34m\u001b[0m\u001b[0m\n\u001b[0m\u001b[1;32m     23\u001b[0m  \u001b[0mtitle\u001b[0m \u001b[0;34m=\u001b[0m \u001b[0mi\u001b[0m\u001b[0;34m.\u001b[0m\u001b[0mtext\u001b[0m\u001b[0;34m\u001b[0m\u001b[0;34m\u001b[0m\u001b[0m\n\u001b[1;32m     24\u001b[0m  \u001b[0mheaders\u001b[0m\u001b[0;34m.\u001b[0m\u001b[0mappend\u001b[0m\u001b[0;34m(\u001b[0m\u001b[0mtitle\u001b[0m\u001b[0;34m)\u001b[0m\u001b[0;34m\u001b[0m\u001b[0;34m\u001b[0m\u001b[0m\n",
            "\u001b[0;31mAttributeError\u001b[0m: 'NoneType' object has no attribute 'find_all'"
          ]
        }
      ]
    }
  ]
}