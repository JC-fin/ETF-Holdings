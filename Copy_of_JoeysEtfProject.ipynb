{
  "nbformat": 4,
  "nbformat_minor": 0,
  "metadata": {
    "colab": {
      "name": "Copy of JoeysEtfProject.ipynb",
      "provenance": [],
      "collapsed_sections": [],
      "include_colab_link": true
    },
    "kernelspec": {
      "name": "python3",
      "display_name": "Python 3"
    },
    "language_info": {
      "name": "python"
    }
  },
  "cells": [
    {
      "cell_type": "markdown",
      "metadata": {
        "id": "view-in-github",
        "colab_type": "text"
      },
      "source": [
        "<a href=\"https://colab.research.google.com/github/JC-fin/ETF-Holdings/blob/main/Copy_of_JoeysEtfProject.ipynb\" target=\"_parent\"><img src=\"https://colab.research.google.com/assets/colab-badge.svg\" alt=\"Open In Colab\"/></a>"
      ]
    },
    {
      "cell_type": "code",
      "source": [
        "import requests\n",
        "from bs4 import BeautifulSoup\n",
        "import re \n",
        "import json \n",
        "import csv \n",
        "from io import StringIO\n",
        "from bs4 import BeautifulSoup\n",
        "import requests \n",
        "#This is a really easy library i found online \n",
        "!pip install yahooquery\n",
        "from yahooquery import Ticker"
      ],
      "metadata": {
        "colab": {
          "base_uri": "https://localhost:8080/"
        },
        "id": "HrcooBRG0cI1",
        "outputId": "e27c49af-3d2d-40b7-e27a-96f71dc4ef89"
      },
      "execution_count": null,
      "outputs": [
        {
          "output_type": "stream",
          "name": "stdout",
          "text": [
            "409.59\n"
          ]
        }
      ]
    },
    {
      "cell_type": "code",
      "source": [
        "#getting the price \n",
        "def priceTracker():\n",
        "  url = 'https://finance.yahoo.com/quote/SPY?p=SPY&.tsrc=fin-srch'\n",
        "  response = requests.get(url)\n",
        "  soup = BeautifulSoup(response.text, 'html')\n",
        "  price = soup.find_all('div', {'class':'My(6px) Pos(r) smartphone_Mt(6px) W(100%) '})[0].find('fin-streamer').text \n",
        "  return price\n",
        "\n",
        "print(priceTracker())"
      ],
      "metadata": {
        "id": "Ps0HhzTI7eX8"
      },
      "execution_count": null,
      "outputs": []
    },
    {
      "cell_type": "code",
      "source": [
        "\n",
        "#getting the holdings\n",
        "url = 'https://finance.yahoo.com/quote/SPY/holdings?p=SPY'\n",
        "response = requests.get(url)\n",
        "soup = BeautifulSoup(response.text, 'html')\n",
        "holding = soup.find_all('table', {'class':'W(100%) M(0) BdB Bdc($seperatorColor)'})\n",
        "print(holding)\n",
        "  \n",
        "\n"
      ],
      "metadata": {
        "colab": {
          "base_uri": "https://localhost:8080/"
        },
        "id": "ZLIFNvkr4aEu",
        "outputId": "927090b9-3260-4677-a8a2-4b6d6f6ea527"
      },
      "execution_count": null,
      "outputs": [
        {
          "output_type": "stream",
          "name": "stdout",
          "text": [
            "[]\n"
          ]
        }
      ]
    },
    {
      "cell_type": "code",
      "source": [
        "\n",
        "url_financials = 'https://finance.yahoo.com/quote/{}/financials?p={}'\n",
        "stock = 'F'\n",
        "response = requests.get(url.financials.format(stock, stock))\n",
        "soup = BeautifulSoup(response.text, 'html.parser')"
      ],
      "metadata": {
        "id": "0_Dnhbt18i5Z"
      },
      "execution_count": null,
      "outputs": []
    },
    {
      "cell_type": "code",
      "source": [
        "\n",
        "\n",
        "#List of funds in my roth account\n",
        "fid_symbols = ['QQQ', 'XLK', 'VB', 'FSMAX', 'FXAIX', 'VEU', 'SCHV', 'FCOM', 'FNCL']\n",
        "e_symbols = ['VNQ', 'VOO', 'VIG', 'ITB', 'QQQ', 'XLY']\n",
        "\n",
        "roth = Ticker(fid_symbols)\n",
        "brokerage = Ticker(e_symbols)\n",
        "\n",
        "roth_top_holdings_df = roth.fund_top_holdings\n",
        "# display(roth_top_holdings_df)\n",
        "brokerage_top_holdings_df = brokerage.fund_top_holdings\n",
        "brokerage_top_holdings_df"
      ],
      "metadata": {
        "id": "IHf66XwR-Dre"
      },
      "execution_count": null,
      "outputs": []
    },
    {
      "cell_type": "code",
      "source": [
        "brokerage_top_holdings_df.sort_values(by=\"holdingPercent\", ascending=False)"
      ],
      "metadata": {
        "id": "W8M87qgu6ouX"
      },
      "execution_count": null,
      "outputs": []
    },
    {
      "cell_type": "code",
      "source": [
        "brokerage_top_holdings_df.to_excel(\"joeysFirstSheet.xlsx\")"
      ],
      "metadata": {
        "id": "UErvAsMR-VXA"
      },
      "execution_count": null,
      "outputs": []
    },
    {
      "cell_type": "code",
      "source": [
        "# Import libraries\n",
        "import requests\n",
        "from bs4 import BeautifulSoup\n",
        "import pandas as pd\n",
        "\n",
        "# Create an URL object\n",
        "url = 'https://finance.yahoo.com/quote/SPY/holdings?p=SPY'\n",
        "# Create object page\n",
        "page = requests.get(url)\n",
        "\n",
        "# parser-lxml = Change html to Python friendly format\n",
        "# Obtain page's information\n",
        "soup = BeautifulSoup(page.text, 'lxml')\n",
        "print(soup)\n",
        "\n",
        "# Obtain information from tag <table>\n",
        "table1 = soup.find('table', {'class':'W(100%) M(0) BdB Bdc($seperatorColor)'})\n",
        "table1\n",
        "\n",
        "print(table1)\n",
        "\n"
      ],
      "metadata": {
        "id": "EzixkODCCUV8"
      },
      "execution_count": null,
      "outputs": []
    },
    {
      "cell_type": "code",
      "source": [
        "soup.find_all('table').tbody"
      ],
      "metadata": {
        "id": "YaPBF3lp94Pc"
      },
      "execution_count": null,
      "outputs": []
    }
  ]
}